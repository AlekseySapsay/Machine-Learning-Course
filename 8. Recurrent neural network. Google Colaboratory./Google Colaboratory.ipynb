{
 "cells": [
  {
   "cell_type": "markdown",
   "metadata": {},
   "source": [
    "# Recurrent neural network"
   ]
  },
  {
   "cell_type": "markdown",
   "metadata": {},
   "source": [
    "## Google Colaboratory"
   ]
  },
  {
   "cell_type": "markdown",
   "metadata": {},
   "source": [
    "As we progress in exploring machine learning, algorithms and computation process becomes more and more sophisticated. Only, several lectures before we have studied how to train the simplest neural net on the logic tables. Now we are learning about the structure able to extract patterns from music and language, a tough challenge, to be honest!\n",
    "\n",
    "Unfortunately, such exponential increase in complexity, sooner or later, meets overwhelming barrier - machine power is finite. For instance, training of LSTM on a simple laptop without GPU acceleration can take several days or even weeks depending on a task. Fortunately, Google has created free research project called Colaboratory. In this notebook, I am going to explain what this project is about and how you can use this project for learning more awesome stuff about machine learning and artificial intelligence."
   ]
  },
  {
   "cell_type": "markdown",
   "metadata": {},
   "source": [
    "## Getting started"
   ]
  },
  {
   "cell_type": "markdown",
   "metadata": {},
   "source": [
    "Colaboratory allows you to run **Jupyter** notebooks without setup in the cloud. You can start productive work after several simple steps:"
   ]
  },
  {
   "cell_type": "markdown",
   "metadata": {},
   "source": [
    "#### Creating Colab notebook"
   ]
  },
  {
   "cell_type": "markdown",
   "metadata": {},
   "source": [
    "Since Colab notebook is stored in Google Drive, firstly, let's create a folder on the Drive called LSTM_example. Then we need to connect the Colaboratory app to your Google Drive. Click New>More>Connect more apps.\n",
    "\n",
    "![Without Colab](https://drive.google.com/uc?id=1G_zOLrojizNe7RHuObdTSKOV9Ldk8ziy)\n",
    "\n",
    "Then you can find Colab in a search line and connect it.\n",
    "\n",
    "![Google Colab](https://drive.google.com/uc?id=1fKcGaSUSLvGoAChI1YnCvB0T0-vSC3gw)\n",
    "\n",
    "As a result, you now can create Colab notebooks just like Google Docs or Forms.\n",
    "\n",
    "![Almost ready](https://drive.google.com/uc?id=1qwjLr16_Q_M--v1a2hsChUXaa6v2xD5s)\n",
    "\n",
    "Clicking \"Colaboratory\" opens new Colab notebook, which basics are going to be explained in next chapter."
   ]
  },
  {
   "cell_type": "markdown",
   "metadata": {},
   "source": [
    "#### Setting Colab notebook"
   ]
  },
  {
   "cell_type": "markdown",
   "metadata": {},
   "source": [
    "Firstly, you need to set runtime type by clicking Runtime>Change runtime type, which opens dialog window.\n",
    "\n",
    "![Runtime type](https://drive.google.com/uc?id=1gFCaghyfVK-XCw4Kgm0dvaVzfiwTc-be)\n",
    "\n",
    "We are using only Python 3 and, therefore, choosing the first option is easy. The second can be a bit trickier. GPU acceleration parallels computation (data flow in neural net) and, usually, it becomes faster. However, for small neural nets, I don't recommend using GPU acceleration because it only slows down computation (you can check this fact experimentally and find boundaries of GPU usage).\n",
    "\n",
    "Then you just need to click \"CONNECT\" button on the right and, hopefully, you will see \"Connected\" in a minute. If a notebook is \"connecting\" or \"initializing\" too long, you can reload a page or wait some time. After seeing \"Connected\" you can use the notebook to its full for **12 hours**. If you haven't finished in 12 hours, you will have to reconnect to a next virtual machine, **but all outputs and variables will be lost.**"
   ]
  },
  {
   "cell_type": "markdown",
   "metadata": {},
   "source": [
    "#### Installing libraries"
   ]
  },
  {
   "cell_type": "markdown",
   "metadata": {},
   "source": [
    "Colab notebook has already installed quite a lot of libraries including Keras, Tensorflow, matplotlib, and numpy. If you want to install a non-Colaboratory library, you can usually type \"!pip install your_library_name\" in the new code cell. More install recipes can be found at https://colab.research.google.com/notebooks/snippets/importing_libraries.ipynb"
   ]
  },
  {
   "cell_type": "markdown",
   "metadata": {},
   "source": [
    "#### Installing FUSE library"
   ]
  },
  {
   "cell_type": "markdown",
   "metadata": {},
   "source": [
    "Imagine that we have finished training a neural network using Keras in a Colaboratory notebook and we want to save results on a local drive, which basically means getting net's weights in form of .h5 file. Or you want to use some data for training, which is not present on the Internet. In that cases, I recommend using FUSE library, which mounts your Google Drive as a native filesystem for a notebook. That allows you to upload your special data to the Drive or saving weights and then downloading them from the Drive. It can be installed by consecutively executing following code cells directly in Colab notebook:"
   ]
  },
  {
   "cell_type": "code",
   "execution_count": null,
   "metadata": {},
   "outputs": [],
   "source": [
    "#Install a Drive FUSE wrapper.\n",
    "# https://github.com/astrada/google-drive-ocamlfuse\n",
    "!apt-get install -y -qq software-properties-common python-software-properties module-init-tools\n",
    "!add-apt-repository -y ppa:alessandro-strada/ppa 2>&1 > /dev/null\n",
    "!apt-get update -qq 2>&1 > /dev/null\n",
    "!apt-get -y install -qq google-drive-ocamlfuse fuse"
   ]
  },
  {
   "cell_type": "code",
   "execution_count": null,
   "metadata": {},
   "outputs": [],
   "source": [
    "# Generate auth tokens for Colab\n",
    "from google.colab import auth\n",
    "auth.authenticate_user()"
   ]
  },
  {
   "cell_type": "code",
   "execution_count": null,
   "metadata": {},
   "outputs": [],
   "source": [
    "# Generate creds for the Drive FUSE library.\n",
    "from oauth2client.client import GoogleCredentials\n",
    "creds = GoogleCredentials.get_application_default()\n",
    "import getpass\n",
    "!google-drive-ocamlfuse -headless -id={creds.client_id} -secret={creds.client_secret} < /dev/null 2>&1 | grep URL\n",
    "vcode = getpass.getpass()\n",
    "!echo {vcode} | google-drive-ocamlfuse -headless -id={creds.client_id} -secret={creds.client_secret}"
   ]
  },
  {
   "cell_type": "code",
   "execution_count": null,
   "metadata": {},
   "outputs": [],
   "source": [
    "# Create a directory and mount Google Drive using that directory.\n",
    "!mkdir -p drive\n",
    "!google-drive-ocamlfuse drive"
   ]
  },
  {
   "cell_type": "markdown",
   "metadata": {},
   "source": [
    "**Note:** After changing virtual machine (because of reconnecting, running out of 12 hours, e.g.) you have to **reinstall** FUSE library"
   ]
  },
  {
   "cell_type": "markdown",
   "metadata": {},
   "source": [
    "After installing FUSE you can freely navigate in Google Drive filesystem. For instance, you can save weights in Keras like following:"
   ]
  },
  {
   "cell_type": "code",
   "execution_count": null,
   "metadata": {},
   "outputs": [],
   "source": [
    "#drive - root of the Drive filesystem\n",
    "model.save('drive/Colab/LSTM_example/model.h5') "
   ]
  },
  {
   "cell_type": "markdown",
   "metadata": {},
   "source": [
    "## Example notebook"
   ]
  },
  {
   "cell_type": "markdown",
   "metadata": {},
   "source": [
    "Aside from connections and filesystem, Colab notebooks don't really differ from Jupyter notebooks. That is why if you are familiar with Jupyter notebooks, it is going to be easy to use Colab ones. You can view example notebook by the link: https://drive.google.com/file/d/1Tx5vVW9es12OPKbfVR15m5Q1tX9n0qEo/view?usp=sharing"
   ]
  },
  {
   "cell_type": "markdown",
   "metadata": {},
   "source": [
    "## Useful link"
   ]
  },
  {
   "cell_type": "markdown",
   "metadata": {},
   "source": [
    "1. https://colab.research.google.com/notebooks/welcome.ipynb - introduction into Colab from Google"
   ]
  }
 ],
 "metadata": {
  "kernelspec": {
   "display_name": "Python 3",
   "language": "python",
   "name": "python3"
  },
  "language_info": {
   "codemirror_mode": {
    "name": "ipython",
    "version": 3
   },
   "file_extension": ".py",
   "mimetype": "text/x-python",
   "name": "python",
   "nbconvert_exporter": "python",
   "pygments_lexer": "ipython3",
   "version": "3.6.3"
  }
 },
 "nbformat": 4,
 "nbformat_minor": 2
}
